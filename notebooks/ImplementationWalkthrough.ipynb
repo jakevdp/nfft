{
 "cells": [
  {
   "cell_type": "markdown",
   "metadata": {},
   "source": [
    "# Implementing the NFFT"
   ]
  },
  {
   "cell_type": "code",
   "execution_count": 1,
   "metadata": {
    "collapsed": true
   },
   "outputs": [],
   "source": [
    "from __future__ import division\n",
    "\n",
    "%matplotlib inline\n",
    "import matplotlib.pyplot as plt\n",
    "import numpy as np"
   ]
  },
  {
   "cell_type": "markdown",
   "metadata": {},
   "source": [
    "We want to solve the following:\n",
    "\n",
    "$$\n",
    "\\hat{f}_k = \\sum_{j=0}^{M-1} f_j e^{2\\pi i k x_j}, \n",
    "$$\n",
    "\n",
    "for complex values $\\{f_j\\}$ at points $\\{x_j\\}$ satisfying $-1/2 \\le x_j < 1/2$,\n",
    "and for integer wavenumbers $k$ in the range $-N/2 \\le k < N/2$.\n",
    "\n",
    "A straightforward implementation of this sum would require $\\mathcal{O}[MN]$ operations, but the nonequispaced fast Fourier transform (NFFT) allows this to be computed in $\\mathcal{O}[M\\log N]$.\n",
    "In this post, we'll work on writing a Python implementation of this NFFT algorithm that uses tools in NumPy and SciPy rather than custom compiled extensions."
   ]
  },
  {
   "cell_type": "markdown",
   "metadata": {},
   "source": [
    "## Straightforward implementation\n",
    "\n",
    "As our first step, we'll define a simple reference implementation of the non-equispaced direct Fourier transform (*NDFT*):"
   ]
  },
  {
   "cell_type": "code",
   "execution_count": 2,
   "metadata": {
    "collapsed": true
   },
   "outputs": [],
   "source": [
    "def ndft(x, f, N):\n",
    "    \"\"\"non-equispaced discrete Fourier transform\"\"\"\n",
    "    k = -(N // 2) + np.arange(N)\n",
    "    return np.dot(f, np.exp(2j * np.pi * k * x[:, np.newaxis]))"
   ]
  },
  {
   "cell_type": "markdown",
   "metadata": {},
   "source": [
    "Let's try evaluating this on some sinusoidal data, with a frequency of 10 cycles per unit time:"
   ]
  },
  {
   "cell_type": "code",
   "execution_count": 3,
   "metadata": {
    "collapsed": false
   },
   "outputs": [
    {
     "data": {
      "text/plain": [
       "<matplotlib.legend.Legend at 0x101c5dba8>"
      ]
     },
     "execution_count": 3,
     "metadata": {},
     "output_type": "execute_result"
    },
    {
     "data": {
      "image/png": "[encoded data removed]",
      "text/plain": [
       "<matplotlib.figure.Figure at 0x1082af160>"
      ]
     },
     "metadata": {},
     "output_type": "display_data"
    }
   ],
   "source": [
    "x = -0.5 + np.random.rand(1000)\n",
    "f = np.sin(10 * 2 * np.pi * x)\n",
    "\n",
    "k = -20 + np.arange(40)\n",
    "f_k = ndft(x, f, len(k))\n",
    "\n",
    "plt.plot(k, f_k.real, label='real')\n",
    "plt.plot(k, f_k.imag, label='imag')\n",
    "plt.legend()"
   ]
  },
  {
   "cell_type": "markdown",
   "metadata": {},
   "source": [
    "As expected, the NFFT shows strong features at wave numbers $\\pm 10$."
   ]
  },
  {
   "cell_type": "markdown",
   "metadata": {},
   "source": [
    "## Fast transform: initial implementation"
   ]
  },
  {
   "cell_type": "markdown",
   "metadata": {},
   "source": [
    "### The Kernel function"
   ]
  },
  {
   "cell_type": "code",
   "execution_count": 4,
   "metadata": {
    "collapsed": true
   },
   "outputs": [],
   "source": [
    "# equations C.1 from https://www-user.tu-chemnitz.de/~potts/paper/nfft3.pdf\n",
    "\n",
    "def phi(x, n, m, sigma):\n",
    "    b = (2 * sigma * m) / ((2 * sigma - 1) * np.pi)\n",
    "    return np.exp(-(n * x) ** 2 / b) / np.sqrt(np.pi * b)\n",
    "\n",
    "def phi_hat(k, n, m, sigma):\n",
    "    b = (2 * sigma * m) / ((2 * sigma - 1) * np.pi)\n",
    "    return np.exp(-b * (np.pi * k / n) ** 2)"
   ]
  },
  {
   "cell_type": "code",
   "execution_count": 5,
   "metadata": {
    "collapsed": false
   },
   "outputs": [
    {
     "data": {
      "text/plain": [
       "True"
      ]
     },
     "execution_count": 5,
     "metadata": {},
     "output_type": "execute_result"
    }
   ],
   "source": [
    "from numpy.fft import fft, fftshift, ifftshift\n",
    "\n",
    "N = 1000\n",
    "sigma = 1\n",
    "n = N * sigma\n",
    "m = 20\n",
    "\n",
    "# compute phi(x)\n",
    "x = np.linspace(-0.5, 0.5, N, endpoint=False)\n",
    "f = phi(x, n, m, sigma)\n",
    "\n",
    "# compute phi_hat(k)\n",
    "k = -(N // 2) + np.arange(N)\n",
    "f_hat = phi_hat(k, n, m, sigma)\n",
    "\n",
    "# compute the FFT of phi(x)\n",
    "f_fft = fftshift(fft(ifftshift(f)))\n",
    "\n",
    "# assure they match\n",
    "np.allclose(f_fft, f_hat)"
   ]
  },
  {
   "cell_type": "markdown",
   "metadata": {},
   "source": [
    "### The expanded algorithm"
   ]
  },
  {
   "cell_type": "code",
   "execution_count": 6,
   "metadata": {
    "collapsed": false
   },
   "outputs": [],
   "source": [
    "import numpy as np\n",
    "\n",
    "\n",
    "def nfft1(x, f, N, sigma=2):\n",
    "    \"\"\"Alg 3 from https://www-user.tu-chemnitz.de/~potts/paper/nfft3.pdf\"\"\"\n",
    "    n = N * sigma  # size of oversampled grid\n",
    "    m = 20  # magic number: we'll set this more carefully later\n",
    "    \n",
    "    # 1. Express f(x) in terms of basis functions phi\n",
    "    shift_to_range = lambda x: -0.5 + (x + 0.5) % 1\n",
    "    x_grid = np.linspace(-0.5, 0.5, n, endpoint=False)\n",
    "    g = np.dot(f, phi(shift_to_range(x[:, None] - x_grid), n, m, sigma))\n",
    "    \n",
    "    # 2. Compute the Fourier transform of g on the oversampled grid\n",
    "    k = -(N // 2) + np.arange(N)\n",
    "    g_k = np.dot(g, np.exp(2j * np.pi * k * x_grid[:, None]))\n",
    "    \n",
    "    # 3. Divide by the Fourier transform of the convolution kernel\n",
    "    f_k = g_k / phi_hat(k, n, m, sigma)\n",
    "    \n",
    "    return f_k"
   ]
  },
  {
   "cell_type": "code",
   "execution_count": 7,
   "metadata": {
    "collapsed": false
   },
   "outputs": [
    {
     "data": {
      "text/plain": [
       "True"
      ]
     },
     "execution_count": 7,
     "metadata": {},
     "output_type": "execute_result"
    }
   ],
   "source": [
    "x = -0.5 + np.random.rand(1000)\n",
    "f = np.sin(10 * 2 * np.pi * x)\n",
    "N = 100\n",
    "\n",
    "np.allclose(ndft(x, f, N),\n",
    "            nfft1(x, f, N))"
   ]
  },
  {
   "cell_type": "markdown",
   "metadata": {},
   "source": [
    "## Speedup #1: using an FFT\n",
    "\n",
    "We'll replace this slow sum\n",
    "\n",
    "``` python\n",
    "g_k = np.dot(g, np.exp(2j * np.pi * k * x_grid[:, None]))\n",
    "```\n",
    "\n",
    "With the FFT-based version of the sum\n",
    "\n",
    "``` python\n",
    "g_k_n = fftshift(ifft(ifftshift(g)))\n",
    "g_k = n * g_k_n[(n - N) // 2: (n + N) // 2]\n",
    "```"
   ]
  },
  {
   "cell_type": "code",
   "execution_count": 8,
   "metadata": {
    "collapsed": false
   },
   "outputs": [],
   "source": [
    "import numpy as np\n",
    "from numpy.fft import fft, ifft, fftshift, ifftshift\n",
    "\n",
    "\n",
    "def nfft2(x, f, N, sigma=2):\n",
    "    \"\"\"Alg 3 from https://www-user.tu-chemnitz.de/~potts/paper/nfft3.pdf\"\"\"\n",
    "    n = N * sigma  # size of oversampled grid\n",
    "    m = 20  # magic number: we'll set this more carefully later\n",
    "    \n",
    "    # 1. Express f(x) in terms of basis functions phi\n",
    "    shift_to_range = lambda x: -0.5 + (x + 0.5) % 1\n",
    "    x_grid = np.linspace(-0.5, 0.5, n, endpoint=False)\n",
    "    g = np.dot(f, phi(shift_to_range(x[:, None] - x_grid), n, m, sigma))\n",
    "    \n",
    "    # 2. Compute the Fourier transform of g on the oversampled grid\n",
    "    k = -(N // 2) + np.arange(N)\n",
    "    g_k_n = fftshift(ifft(ifftshift(g)))\n",
    "    g_k = n * g_k_n[(n - N) // 2: (n + N) // 2]\n",
    "    \n",
    "    # 3. Divide by the Fourier transform of the convolution kernel\n",
    "    f_k = g_k / phi_hat(k, n, m, sigma)\n",
    "    \n",
    "    return f_k"
   ]
  },
  {
   "cell_type": "code",
   "execution_count": 9,
   "metadata": {
    "collapsed": false
   },
   "outputs": [
    {
     "data": {
      "text/plain": [
       "True"
      ]
     },
     "execution_count": 9,
     "metadata": {},
     "output_type": "execute_result"
    }
   ],
   "source": [
    "x = -0.5 + np.random.rand(1000)\n",
    "f = np.sin(10 * 2 * np.pi * x)\n",
    "N = 100\n",
    "\n",
    "np.allclose(ndft(x, f, N),\n",
    "            nfft2(x, f, N))"
   ]
  },
  {
   "cell_type": "markdown",
   "metadata": {},
   "source": [
    "## Speedup #2: Truncating the basis function sum\n",
    "\n",
    "The expression of the inputs in terms of the basis functions $\\phi$ takes the form of a matrix-vector product:\n",
    "\n",
    "``` python\n",
    "np.dot(f, phi(shift_to_range(x[:, None] - x_grid), n, m, sigma))\n",
    "```\n",
    "\n",
    "The NFFT algorithm is designed so that this matrix will be sparse, as we can see by visualizing it:"
   ]
  },
  {
   "cell_type": "code",
   "execution_count": 10,
   "metadata": {
    "collapsed": false
   },
   "outputs": [
    {
     "data": {
      "text/plain": [
       "<matplotlib.colorbar.Colorbar at 0x10b874f60>"
      ]
     },
     "execution_count": 10,
     "metadata": {},
     "output_type": "execute_result"
    },
    {
     "data": {
      "image/png": "[encoded data removed]",
      "text/plain": [
       "<matplotlib.figure.Figure at 0x1082d9fd0>"
      ]
     },
     "metadata": {},
     "output_type": "display_data"
    }
   ],
   "source": [
    "sigma = 3\n",
    "n = sigma * N\n",
    "m = 20\n",
    "x_grid = np.linspace(-0.5, 0.5, n, endpoint=False)\n",
    "shift_to_range = lambda x: -0.5 + (x + 0.5) % 1\n",
    "\n",
    "mat = phi(shift_to_range(x[:, None] - x_grid), n, m, sigma)\n",
    "plt.imshow(mat, aspect='auto')\n",
    "plt.colorbar()"
   ]
  },
  {
   "cell_type": "markdown",
   "metadata": {},
   "source": [
    "By design, each row of the matrix contains just a single nonzero clump of entries, of width approximately $2m$.\n",
    "We could make this basis function sum *far* more efficient if we construct this as a sparse rather than a dense matrix.\n",
    "Because each row has the same number of nonzero entries (that is, $2m$), this can be done quite efficiently using scipy's compressed sparse row (CSR) sparse matrix format.\n",
    "We will build the matrix from an array of values, an array of column indices, and an array of indices specifying the beginning and end of each sequential row within these arrays:"
   ]
  },
  {
   "cell_type": "code",
   "execution_count": 11,
   "metadata": {
    "collapsed": false
   },
   "outputs": [
    {
     "data": {
      "text/plain": [
       "True"
      ]
     },
     "execution_count": 11,
     "metadata": {},
     "output_type": "execute_result"
    },
    {
     "data": {
      "image/png": "[encoded data removed]",
      "text/plain": [
       "<matplotlib.figure.Figure at 0x10b8d3748>"
      ]
     },
     "metadata": {},
     "output_type": "display_data"
    }
   ],
   "source": [
    "from scipy.sparse import csr_matrix\n",
    "\n",
    "col_ind = np.floor(n * x[:, np.newaxis]).astype(int) + np.arange(-m, m)\n",
    "vals = phi(shift_to_range(x[:, None] - col_ind / n), n, m, sigma)\n",
    "col_ind = (col_ind + n // 2) % n\n",
    "row_ptr = np.arange(len(x) + 1) * col_ind.shape[1]\n",
    "spmat = csr_matrix((vals.ravel(), col_ind.ravel(), row_ptr), shape=(len(x), n))\n",
    "\n",
    "plt.imshow(spmat.toarray(), aspect='auto')\n",
    "plt.colorbar()\n",
    "np.allclose(spmat.toarray(), mat)"
   ]
  },
  {
   "cell_type": "code",
   "execution_count": 12,
   "metadata": {
    "collapsed": true
   },
   "outputs": [],
   "source": [
    "import numpy as np\n",
    "from numpy.fft import fft, ifft, fftshift, ifftshift\n",
    "\n",
    "\n",
    "def nfft3(x, f, N, sigma=2):\n",
    "    \"\"\"Alg 3 from https://www-user.tu-chemnitz.de/~potts/paper/nfft3.pdf\"\"\"\n",
    "    n = N * sigma  # size of oversampled grid\n",
    "    m = 20  # magic number: we'll set this more carefully later\n",
    "    \n",
    "    # 1. Express f(x) in terms of basis functions phi\n",
    "    shift_to_range = lambda x: -0.5 + (x + 0.5) % 1\n",
    "    col_ind = np.floor(n * x[:, np.newaxis]).astype(int) + np.arange(-m, m)\n",
    "    vals = phi(shift_to_range(x[:, None] - col_ind / n), n, m, sigma)\n",
    "    col_ind = (col_ind + n // 2) % n\n",
    "    row_ptr = np.arange(len(x) + 1) * col_ind.shape[1]\n",
    "    mat = csr_matrix((vals.ravel(), col_ind.ravel(), row_ptr), shape=(len(x), n))\n",
    "    g = mat.T.dot(f)\n",
    "    \n",
    "    # 2. Compute the Fourier transform of g on the oversampled grid\n",
    "    k = -(N // 2) + np.arange(N)\n",
    "    g_k_n = fftshift(ifft(ifftshift(g)))\n",
    "    g_k = n * g_k_n[(n - N) // 2: (n + N) // 2]\n",
    "        \n",
    "    # 3. Divide by the Fourier transform of the convolution kernel\n",
    "    f_k = g_k / phi_hat(k, n, m, sigma)\n",
    "    \n",
    "    return f_k"
   ]
  },
  {
   "cell_type": "code",
   "execution_count": 13,
   "metadata": {
    "collapsed": false
   },
   "outputs": [
    {
     "data": {
      "text/plain": [
       "True"
      ]
     },
     "execution_count": 13,
     "metadata": {},
     "output_type": "execute_result"
    }
   ],
   "source": [
    "x = -0.5 + np.random.rand(1000)\n",
    "f = np.sin(10 * 2 * np.pi * x)\n",
    "N = 100\n",
    "\n",
    "np.allclose(ndft(x, f, N),\n",
    "            nfft3(x, f, N))"
   ]
  },
  {
   "cell_type": "markdown",
   "metadata": {},
   "source": [
    "## Choosing ``m``\n",
    "\n",
    "Finally, we should be a bit more careful about choosing a suitable value of ``m`` for our problem.\n",
    "The paper offers a way to estimate ``m`` from a desired error tolerance for the result of the computation."
   ]
  },
  {
   "cell_type": "code",
   "execution_count": 14,
   "metadata": {
    "collapsed": true
   },
   "outputs": [],
   "source": [
    "def C_phi(m, sigma):\n",
    "    return 4 * np.exp(-m * np.pi * (1 - 1. / (2 * sigma - 1)))\n",
    "\n",
    "def m_from_C_phi(C, sigma):\n",
    "    return np.ceil(-np.log(0.25 * C) / (np.pi * (1 - 1 / (2 * sigma - 1))))"
   ]
  },
  {
   "cell_type": "markdown",
   "metadata": {},
   "source": [
    "Let's add this to our nfft function"
   ]
  },
  {
   "cell_type": "code",
   "execution_count": 15,
   "metadata": {
    "collapsed": true
   },
   "outputs": [],
   "source": [
    "import numpy as np\n",
    "from numpy.fft import fft, ifft, fftshift, ifftshift\n",
    "\n",
    "\n",
    "def nfft(x, f, N, sigma=2, tol=1E-8):\n",
    "    \"\"\"Alg 3 from https://www-user.tu-chemnitz.de/~potts/paper/nfft3.pdf\"\"\"\n",
    "    n = N * sigma  # size of oversampled grid\n",
    "    m = m_from_C_phi(tol / N, sigma)\n",
    "    \n",
    "    # 1. Express f(x) in terms of basis functions phi\n",
    "    shift_to_range = lambda x: -0.5 + (x + 0.5) % 1\n",
    "    col_ind = np.floor(n * x[:, np.newaxis]).astype(int) + np.arange(-m, m)\n",
    "    vals = phi(shift_to_range(x[:, None] - col_ind / n), n, m, sigma)\n",
    "    col_ind = (col_ind + n // 2) % n\n",
    "    indptr = np.arange(len(x) + 1) * col_ind.shape[1]\n",
    "    mat = csr_matrix((vals.ravel(), col_ind.ravel(), indptr), shape=(len(x), n))\n",
    "    g = mat.T.dot(f)\n",
    "    \n",
    "    # 2. Compute the Fourier transform of g on the oversampled grid\n",
    "    k = -(N // 2) + np.arange(N)\n",
    "    g_k_n = fftshift(ifft(ifftshift(g)))\n",
    "    g_k = n * g_k_n[(n - N) // 2: (n + N) // 2]\n",
    "    \n",
    "    # 3. Divide by the Fourier transform of the convolution kernel\n",
    "    f_k = g_k / phi_hat(k, n, m, sigma)\n",
    "    \n",
    "    return f_k"
   ]
  },
  {
   "cell_type": "code",
   "execution_count": 16,
   "metadata": {
    "collapsed": false
   },
   "outputs": [
    {
     "data": {
      "text/plain": [
       "True"
      ]
     },
     "execution_count": 16,
     "metadata": {},
     "output_type": "execute_result"
    }
   ],
   "source": [
    "x = -0.5 + np.random.rand(1000)\n",
    "f = np.sin(10 * 2 * np.pi * x)\n",
    "N = 100\n",
    "\n",
    "np.allclose(ndft(x, f, N),\n",
    "            nfft(x, f, N))"
   ]
  },
  {
   "cell_type": "code",
   "execution_count": 17,
   "metadata": {
    "collapsed": true
   },
   "outputs": [],
   "source": [
    "from pynfft import NFFT\n",
    "\n",
    "def cnfft(x, f, N):\n",
    "    \"\"\"Compute the nfft with pynfft\"\"\"\n",
    "    plan = NFFT(N, len(x))\n",
    "    plan.x = x\n",
    "    plan.precompute()\n",
    "    plan.f = f\n",
    "    # need to return a copy because of a\n",
    "    # reference counting bug in pynfft\n",
    "    return plan.adjoint().copy()"
   ]
  },
  {
   "cell_type": "code",
   "execution_count": 18,
   "metadata": {
    "collapsed": false
   },
   "outputs": [
    {
     "data": {
      "text/plain": [
       "True"
      ]
     },
     "execution_count": 18,
     "metadata": {},
     "output_type": "execute_result"
    }
   ],
   "source": [
    "np.allclose(cnfft(x, f, N),\n",
    "            nfft(x, f, N))"
   ]
  },
  {
   "cell_type": "code",
   "execution_count": 19,
   "metadata": {
    "collapsed": false
   },
   "outputs": [
    {
     "name": "stdout",
     "output_type": "stream",
     "text": [
      "fast nfft:\n",
      "10 loops, best of 3: 23.4 ms per loop\n",
      "\n",
      "wrapped C-nfft/pynfft package:\n",
      "10 loops, best of 3: 40 ms per loop\n"
     ]
    }
   ],
   "source": [
    "x = -0.5 + np.random.rand(10000)\n",
    "f = np.sin(10 * 2 * np.pi * x)\n",
    "N = 10000\n",
    "\n",
    "#print(\"direct ndft:\")\n",
    "#%timeit ndft(x, f, N)\n",
    "#print()\n",
    "print(\"fast nfft:\")\n",
    "%timeit nfft(x, f, N)\n",
    "print()\n",
    "print(\"wrapped C-nfft/pynfft package:\")\n",
    "%timeit cnfft(x, f, N)"
   ]
  }
 ],
 "metadata": {
  "anaconda-cloud": {},
  "kernelspec": {
   "display_name": "Fast Template Periodogram",
   "language": "python",
   "name": "ftp"
  },
  "language_info": {
   "codemirror_mode": {
    "name": "ipython",
    "version": 3
   },
   "file_extension": ".py",
   "mimetype": "text/x-python",
   "name": "python",
   "nbconvert_exporter": "python",
   "pygments_lexer": "ipython3",
   "version": "3.6.0"
  }
 },
 "nbformat": 4,
 "nbformat_minor": 2
}
