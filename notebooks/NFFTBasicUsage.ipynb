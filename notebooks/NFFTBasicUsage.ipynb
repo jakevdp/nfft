{
 "cells": [
  {
   "cell_type": "markdown",
   "metadata": {},
   "source": [
    "# NFFT Package\n",
    "\n",
    "The ``nfft`` package is a lightweight implementation of the non-equispaced\n",
    "fast Fourier transform (NFFT), based on numpy and scipy and released under\n",
    "an MIT license.\n",
    "\n",
    "The NFFT is described in *Using NFFT 3 – a software library for various nonequispaced\n",
    "fast Fourier transforms* ([pdf](https://www-user.tu-chemnitz.de/~potts/paper/nfft3.pdf)), which describes a C library that computes the NFFT and several variants and extensions."
   ]
  },
  {
   "cell_type": "markdown",
   "metadata": {},
   "source": [
    "## Included Algorithms\n",
    "\n",
    "The ``nfft`` package currently implements only a few of the algorithms described in the above paper, in particular:"
   ]
  },
  {
   "cell_type": "markdown",
   "metadata": {},
   "source": [
    "### The one-dimensional forward NDFT and NFFT\n",
    "\n",
    "The forward transform is given by\n",
    "\n",
    "$$\n",
    "f_j = \\sum_{k=-N/2}^{N/2-1} \\hat{f}_k e^{-2\\pi i k x_j}\n",
    "$$\n",
    "\n",
    "for complex amplitudes $\\{f_k\\}$ specified at the range of integer wavenumbers $k$ in the range $-N/2 \\le k < N/2$, evaluated at points $\\{x_j\\}$ satisfying $-1/2 \\le x_j < 1/2$.\n",
    "\n",
    "This can be computed via the ``nfft.ndft()`` and ``nfft.nfft()`` functions, respectively.\n",
    "  "
   ]
  },
  {
   "cell_type": "markdown",
   "metadata": {},
   "source": [
    "### The one-dimensional adjoint NDFT and NFFT\n",
    "\n",
    "The adjoint transform is given by\n",
    "\n",
    "$$\n",
    "\\hat{f}_k = \\sum_{j=0}^{M-1} f_j e^{2\\pi i k x_j}\n",
    "$$\n",
    "\n",
    "for complex values $\\{f_j\\}$ at points $\\{x_j\\}$ satisfying $-1/2 \\le x_j < 1/2$,\n",
    "and for the range of integer wavenumbers $k$ in the range $-N/2 \\le k < N/2$.\n",
    "\n",
    "This can be computed via the ``nfft.ndft_adjoint()`` and ``nfft.nfft_adjoint()`` functions, respectively."
   ]
  },
  {
   "cell_type": "markdown",
   "metadata": {},
   "source": [
    "## Complexity\n",
    "\n",
    "The computational complexity of both the forward and adjoint algorithm is approximately\n",
    "\n",
    "$$\n",
    "\\mathcal{O}[N\\log(N) + M\\log(1 / \\epsilon)]\n",
    "$$\n",
    "\n",
    "where $\\epsilon$ is the desired tolerance of the result.\n",
    "In the current implementation, the memory requirements are approximately\n",
    "\n",
    "$$\n",
    "\\mathcal{O}[N + M\\log(1 / \\epsilon)]\n",
    "$$"
   ]
  },
  {
   "cell_type": "markdown",
   "metadata": {},
   "source": [
    "## Comparison to pynfft\n",
    "\n",
    "Another option for computing the NFFT in Python is to use the [pynfft](https://github.com/ghisvail/pyNFFT/) package, which wraps the C library referenced in the above paper.\n",
    "The advantage of ``pynfft`` is that it provides a more complete set of routines, including multi-dimensional NFFTs and various computing strategies.\n",
    "\n",
    "The disadvantage is that ``pynfft`` is GPL-licensed, and has a more complicated set of dependencies.\n",
    "\n",
    "Performance-wise, ``nfft`` and ``pynfft`` are comparable, with the ``nfft`` package discussed here being up to a factor of 2 faster in most cases of interest (see [Benchmarks.ipynb](Benchmarks.ipynb) for some benchmarks)."
   ]
  },
  {
   "cell_type": "markdown",
   "metadata": {},
   "source": [
    "## Installation\n",
    "\n",
    "The ``nfft`` package can be installded directly from the Python Package Index:\n",
    "\n",
    "```\n",
    "$ pip install nfft\n",
    "```\n",
    "\n",
    "Dependencies are [numpy](http://www.numpy.org), [scipy](http://www.scipy.org), and [pytest](http://www.pytest.org)."
   ]
  },
  {
   "cell_type": "markdown",
   "metadata": {},
   "source": [
    "## Testing\n",
    "\n",
    "Unit tests can be run using [pytest](http://pytest.org):\n",
    "\n",
    "```\n",
    "$ pytest --pyargs nfft\n",
    "```"
   ]
  },
  {
   "cell_type": "markdown",
   "metadata": {},
   "source": [
    "## Usage"
   ]
  },
  {
   "cell_type": "markdown",
   "metadata": {},
   "source": [
    "Here are some examples of computing the NFFT and its adjoint, using both a direct method and the fast method:"
   ]
  },
  {
   "cell_type": "markdown",
   "metadata": {},
   "source": [
    "### Forward Transform\n",
    "\n",
    "$$\n",
    "f_j = \\sum_{k=-N/2}^{N/2-1} \\hat{f}_k e^{-2\\pi i k x_j}\n",
    "$$"
   ]
  },
  {
   "cell_type": "code",
   "execution_count": 1,
   "metadata": {
    "collapsed": false
   },
   "outputs": [],
   "source": [
    "import numpy as np\n",
    "import nfft"
   ]
  },
  {
   "cell_type": "code",
   "execution_count": 2,
   "metadata": {
    "collapsed": true
   },
   "outputs": [],
   "source": [
    "# define evaluation points\n",
    "x = -0.5 + np.random.rand(1000)\n",
    "\n",
    "# define Fourier coefficients\n",
    "N = 10000\n",
    "k = N // 2 + np.arange(N)\n",
    "f_k = np.random.randn(N)"
   ]
  },
  {
   "cell_type": "code",
   "execution_count": 3,
   "metadata": {
    "collapsed": false
   },
   "outputs": [
    {
     "name": "stdout",
     "output_type": "stream",
     "text": [
      "CPU times: user 401 ms, sys: 120 ms, total: 521 ms\n",
      "Wall time: 505 ms\n"
     ]
    }
   ],
   "source": [
    "# direct Fourier transform\n",
    "%time f_x_direct = nfft.ndft(x, f_k)"
   ]
  },
  {
   "cell_type": "code",
   "execution_count": 4,
   "metadata": {
    "collapsed": false
   },
   "outputs": [
    {
     "name": "stdout",
     "output_type": "stream",
     "text": [
      "CPU times: user 10 ms, sys: 2.11 ms, total: 12.1 ms\n",
      "Wall time: 7.02 ms\n"
     ]
    }
   ],
   "source": [
    "# fast Fourier transform\n",
    "%time f_x_fast = nfft.nfft(x, f_k)"
   ]
  },
  {
   "cell_type": "code",
   "execution_count": 5,
   "metadata": {
    "collapsed": false
   },
   "outputs": [
    {
     "data": {
      "text/plain": [
       "True"
      ]
     },
     "execution_count": 5,
     "metadata": {},
     "output_type": "execute_result"
    }
   ],
   "source": [
    "# Compare the results\n",
    "np.allclose(f_x_direct, f_x_fast)"
   ]
  },
  {
   "cell_type": "markdown",
   "metadata": {},
   "source": [
    "### Adjoint Transform\n",
    "\n",
    "$$\n",
    "\\hat{f}_k = \\sum_{j=0}^{M-1} f_j e^{2\\pi i k x_j}, \n",
    "$$"
   ]
  },
  {
   "cell_type": "code",
   "execution_count": 6,
   "metadata": {
    "collapsed": true
   },
   "outputs": [],
   "source": [
    "# define observations\n",
    "\n",
    "f = np.random.rand(len(x))"
   ]
  },
  {
   "cell_type": "code",
   "execution_count": 7,
   "metadata": {
    "collapsed": false
   },
   "outputs": [
    {
     "name": "stdout",
     "output_type": "stream",
     "text": [
      "CPU times: user 473 ms, sys: 116 ms, total: 590 ms\n",
      "Wall time: 450 ms\n"
     ]
    }
   ],
   "source": [
    "# direct adjoint transform\n",
    "%time f_k_direct = nfft.ndft_adjoint(x, f, N)"
   ]
  },
  {
   "cell_type": "code",
   "execution_count": 8,
   "metadata": {
    "collapsed": false
   },
   "outputs": [
    {
     "name": "stdout",
     "output_type": "stream",
     "text": [
      "CPU times: user 7.75 ms, sys: 1.56 ms, total: 9.3 ms\n",
      "Wall time: 4.94 ms\n"
     ]
    }
   ],
   "source": [
    "# fast adjoint transform\n",
    "%time f_k_fast = nfft.nfft_adjoint(x, f, N)"
   ]
  },
  {
   "cell_type": "code",
   "execution_count": 9,
   "metadata": {
    "collapsed": false
   },
   "outputs": [
    {
     "data": {
      "text/plain": [
       "True"
      ]
     },
     "execution_count": 9,
     "metadata": {},
     "output_type": "execute_result"
    }
   ],
   "source": [
    "# Compare the results\n",
    "np.allclose(f_k_direct, f_k_fast)"
   ]
  }
 ],
 "metadata": {
  "anaconda-cloud": {},
  "kernelspec": {
   "display_name": "Python 3.6",
   "language": "python",
   "name": "python3.6"
  },
  "language_info": {
   "codemirror_mode": {
    "name": "ipython",
    "version": 3
   },
   "file_extension": ".py",
   "mimetype": "text/x-python",
   "name": "python",
   "nbconvert_exporter": "python",
   "pygments_lexer": "ipython3",
   "version": "3.6.0"
  }
 },
 "nbformat": 4,
 "nbformat_minor": 0
}
